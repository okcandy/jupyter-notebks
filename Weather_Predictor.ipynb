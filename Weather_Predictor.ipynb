{
 "cells": [
  {
   "cell_type": "markdown",
   "id": "30828f49",
   "metadata": {},
   "source": [
    "### Predicting weather in Kenya using machine learning"
   ]
  },
  {
   "cell_type": "markdown",
   "id": "9051a32c",
   "metadata": {},
   "source": [
    "##### The weather data is from a station at the Jomo Kenyatta International Airport - Kenya. The data is from Jan 1957 through Nov 2023. \n",
    "##### The data is from the National Oceanic and Atmospheric Administration (Climate Data Online) - https://www.ncdc.noaa.gov/cdo-web/"
   ]
  },
  {
   "cell_type": "code",
   "execution_count": null,
   "id": "cbba3a6d",
   "metadata": {},
   "outputs": [],
   "source": [
    "# Loading the libraries\n",
    "import pandas as pd"
   ]
  },
  {
   "cell_type": "code",
   "execution_count": 4,
   "id": "12f0e7cd",
   "metadata": {},
   "outputs": [],
   "source": [
    "# Loading the data\n",
    "weather = pd.read_csv(\"weather_data.csv\", index_col=\"DATE\")"
   ]
  },
  {
   "cell_type": "code",
   "execution_count": 5,
   "id": "a9560869",
   "metadata": {},
   "outputs": [
    {
     "data": {
      "text/html": [
       "<div>\n",
       "<style scoped>\n",
       "    .dataframe tbody tr th:only-of-type {\n",
       "        vertical-align: middle;\n",
       "    }\n",
       "\n",
       "    .dataframe tbody tr th {\n",
       "        vertical-align: top;\n",
       "    }\n",
       "\n",
       "    .dataframe thead th {\n",
       "        text-align: right;\n",
       "    }\n",
       "</style>\n",
       "<table border=\"1\" class=\"dataframe\">\n",
       "  <thead>\n",
       "    <tr style=\"text-align: right;\">\n",
       "      <th></th>\n",
       "      <th>STATION</th>\n",
       "      <th>NAME</th>\n",
       "      <th>PRCP</th>\n",
       "      <th>SNWD</th>\n",
       "      <th>TAVG</th>\n",
       "      <th>TMAX</th>\n",
       "      <th>TMIN</th>\n",
       "    </tr>\n",
       "    <tr>\n",
       "      <th>DATE</th>\n",
       "      <th></th>\n",
       "      <th></th>\n",
       "      <th></th>\n",
       "      <th></th>\n",
       "      <th></th>\n",
       "      <th></th>\n",
       "      <th></th>\n",
       "    </tr>\n",
       "  </thead>\n",
       "  <tbody>\n",
       "    <tr>\n",
       "      <th>1957-01-01</th>\n",
       "      <td>KE000063740</td>\n",
       "      <td>JOMO KENYATTA INTERNATIONAL, KE</td>\n",
       "      <td>NaN</td>\n",
       "      <td>NaN</td>\n",
       "      <td>66.0</td>\n",
       "      <td>NaN</td>\n",
       "      <td>NaN</td>\n",
       "    </tr>\n",
       "    <tr>\n",
       "      <th>1957-01-02</th>\n",
       "      <td>KE000063740</td>\n",
       "      <td>JOMO KENYATTA INTERNATIONAL, KE</td>\n",
       "      <td>NaN</td>\n",
       "      <td>NaN</td>\n",
       "      <td>66.0</td>\n",
       "      <td>77.0</td>\n",
       "      <td>59.0</td>\n",
       "    </tr>\n",
       "    <tr>\n",
       "      <th>1957-01-03</th>\n",
       "      <td>KE000063740</td>\n",
       "      <td>JOMO KENYATTA INTERNATIONAL, KE</td>\n",
       "      <td>NaN</td>\n",
       "      <td>NaN</td>\n",
       "      <td>63.0</td>\n",
       "      <td>75.0</td>\n",
       "      <td>59.0</td>\n",
       "    </tr>\n",
       "    <tr>\n",
       "      <th>1957-01-04</th>\n",
       "      <td>KE000063740</td>\n",
       "      <td>JOMO KENYATTA INTERNATIONAL, KE</td>\n",
       "      <td>NaN</td>\n",
       "      <td>NaN</td>\n",
       "      <td>62.0</td>\n",
       "      <td>71.0</td>\n",
       "      <td>NaN</td>\n",
       "    </tr>\n",
       "    <tr>\n",
       "      <th>1957-01-05</th>\n",
       "      <td>KE000063740</td>\n",
       "      <td>JOMO KENYATTA INTERNATIONAL, KE</td>\n",
       "      <td>NaN</td>\n",
       "      <td>NaN</td>\n",
       "      <td>66.0</td>\n",
       "      <td>NaN</td>\n",
       "      <td>57.0</td>\n",
       "    </tr>\n",
       "  </tbody>\n",
       "</table>\n",
       "</div>"
      ],
      "text/plain": [
       "                STATION                             NAME  PRCP  SNWD  TAVG  \\\n",
       "DATE                                                                         \n",
       "1957-01-01  KE000063740  JOMO KENYATTA INTERNATIONAL, KE   NaN   NaN  66.0   \n",
       "1957-01-02  KE000063740  JOMO KENYATTA INTERNATIONAL, KE   NaN   NaN  66.0   \n",
       "1957-01-03  KE000063740  JOMO KENYATTA INTERNATIONAL, KE   NaN   NaN  63.0   \n",
       "1957-01-04  KE000063740  JOMO KENYATTA INTERNATIONAL, KE   NaN   NaN  62.0   \n",
       "1957-01-05  KE000063740  JOMO KENYATTA INTERNATIONAL, KE   NaN   NaN  66.0   \n",
       "\n",
       "            TMAX  TMIN  \n",
       "DATE                    \n",
       "1957-01-01   NaN   NaN  \n",
       "1957-01-02  77.0  59.0  \n",
       "1957-01-03  75.0  59.0  \n",
       "1957-01-04  71.0   NaN  \n",
       "1957-01-05   NaN  57.0  "
      ]
     },
     "execution_count": 5,
     "metadata": {},
     "output_type": "execute_result"
    }
   ],
   "source": [
    "weather.head()"
   ]
  },
  {
   "cell_type": "code",
   "execution_count": 6,
   "id": "0fc3489f",
   "metadata": {},
   "outputs": [
    {
     "name": "stdout",
     "output_type": "stream",
     "text": [
      "<class 'pandas.core.frame.DataFrame'>\n",
      "Index: 24359 entries, 1957-01-01 to 2023-11-28\n",
      "Data columns (total 7 columns):\n",
      " #   Column   Non-Null Count  Dtype  \n",
      "---  ------   --------------  -----  \n",
      " 0   STATION  24359 non-null  object \n",
      " 1   NAME     24359 non-null  object \n",
      " 2   PRCP     17683 non-null  float64\n",
      " 3   SNWD     6 non-null      float64\n",
      " 4   TAVG     20446 non-null  float64\n",
      " 5   TMAX     12571 non-null  float64\n",
      " 6   TMIN     13158 non-null  float64\n",
      "dtypes: float64(5), object(2)\n",
      "memory usage: 1.5+ MB\n"
     ]
    }
   ],
   "source": [
    "weather.info()"
   ]
  },
  {
   "cell_type": "code",
   "execution_count": 7,
   "id": "256d265f",
   "metadata": {},
   "outputs": [
    {
     "data": {
      "text/plain": [
       "STATION    0.000000\n",
       "NAME       0.000000\n",
       "PRCP       0.274067\n",
       "SNWD       0.999754\n",
       "TAVG       0.160639\n",
       "TMAX       0.483928\n",
       "TMIN       0.459830\n",
       "dtype: float64"
      ]
     },
     "execution_count": 7,
     "metadata": {},
     "output_type": "execute_result"
    }
   ],
   "source": [
    "# Cleaning data and missing values\n",
    "weather.apply(pd.isnull).sum()/weather.shape[0]"
   ]
  },
  {
   "cell_type": "code",
   "execution_count": null,
   "id": "a5c1cd7d",
   "metadata": {},
   "outputs": [],
   "source": []
  }
 ],
 "metadata": {
  "kernelspec": {
   "display_name": "Python 3 (ipykernel)",
   "language": "python",
   "name": "python3"
  },
  "language_info": {
   "codemirror_mode": {
    "name": "ipython",
    "version": 3
   },
   "file_extension": ".py",
   "mimetype": "text/x-python",
   "name": "python",
   "nbconvert_exporter": "python",
   "pygments_lexer": "ipython3",
   "version": "3.9.7"
  }
 },
 "nbformat": 4,
 "nbformat_minor": 5
}
